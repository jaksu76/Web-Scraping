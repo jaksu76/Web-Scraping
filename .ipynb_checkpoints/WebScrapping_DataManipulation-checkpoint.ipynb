{
 "cells": [
  {
   "cell_type": "raw",
   "metadata": {
    "slideshow": {
     "slide_type": "-"
    }
   },
   "source": [
    "<script>\n",
    "  function code_toggle() {\n",
    "    if (code_shown){\n",
    "      $('div.input').hide('500');\n",
    "      $('#toggleButton').val('Show Code')\n",
    "    } else {\n",
    "      $('div.input').show('500');\n",
    "      $('#toggleButton').val('Hide Code')\n",
    "    }\n",
    "    code_shown = !code_shown\n",
    "  }\n",
    "\n",
    "  $( document ).ready(function(){\n",
    "    code_shown=false;\n",
    "    $('div.input').hide()\n",
    "  });\n",
    "</script>\n",
    "<form action=\"javascript:code_toggle()\"><input type=\"submit\" id=\"toggleButton\" value=\"Show Code\"></form>"
   ]
  },
  {
   "cell_type": "markdown",
   "metadata": {
    "slideshow": {
     "slide_type": "slide"
    }
   },
   "source": [
    "# WebScrapping Project: Who owns S&P500?\n",
    "-- Sheetal Darekar"
   ]
  },
  {
   "cell_type": "markdown",
   "metadata": {
    "slideshow": {
     "slide_type": "slide"
    }
   },
   "source": [
    "# Do you guys know how big is Apple compared to some world GDPs?\n",
    "\n",
    "\n",
    "\n",
    "\n",
    "\n",
    "\n",
    "![Car Image](Apple.png)\n"
   ]
  },
  {
   "cell_type": "markdown",
   "metadata": {
    "slideshow": {
     "slide_type": "slide"
    }
   },
   "source": [
    "# Insitutional Ownership\n",
    "\n",
    "## The amount of a company’s available stock owned by mutual or pension funds, insurance companies, investment firms, private foundations, endowments or other large entities that manage funds on the behalf of others.\n"
   ]
  },
  {
   "cell_type": "markdown",
   "metadata": {
    "slideshow": {
     "slide_type": "slide"
    }
   },
   "source": [
    "# Project Outline\n",
    "\n",
    "<img src=\"Slide1.jpg\" alt=\"Drawing\" style=\"width: 700px;\"/>"
   ]
  },
  {
   "cell_type": "code",
   "execution_count": 3,
   "metadata": {
    "collapsed": true
   },
   "outputs": [],
   "source": [
    "#Importing files\n",
    "%matplotlib inline\n",
    "import pandas as pd\n",
    "import numpy as np\n"
   ]
  },
  {
   "cell_type": "code",
   "execution_count": 4,
   "metadata": {
    "collapsed": true
   },
   "outputs": [],
   "source": [
    "#Reading and copying files\n",
    "\n",
    "cnn_df = pd.read_csv('/Users/sheetaldarekar/NYCDS/Project/WebScraping/cnn_sp/cnn_sp.csv')\n",
    "nasdaq_df = pd.read_csv('/Users/sheetaldarekar/NYCDS/Project/WebScraping/nasdaq/nasdaq.csv')\n",
    "fin_df = pd.read_csv('/Users/sheetaldarekar/NYCDS/Project/WebScraping/fin_morningstar/financials_moringstar.csv', encoding = 'Windows-1252')\n",
    "morn_df = pd.read_csv('/Users/sheetaldarekar/NYCDS/Project/WebScraping/morningstar/morningstar.csv')\n",
    "cnn = cnn_df.copy()\n",
    "nasdaq = nasdaq_df.copy()\n",
    "fin = fin_df.copy()\n",
    "morn = morn_df.copy()"
   ]
  },
  {
   "cell_type": "code",
   "execution_count": 5,
   "metadata": {
    "collapsed": true
   },
   "outputs": [],
   "source": [
    "# Cleaning CNN \n",
    "\n",
    "num_replace = {\n",
    "    'B' : 'e9',\n",
    "    'M' : 'e6',\n",
    "    'T' : 'e12'\n",
    "}\n",
    "\n",
    "def str_to_curr(s):\n",
    "    if s[-1] in num_replace:\n",
    "        s = s[:-1]+num_replace[s[-1]]\n",
    "    return float(s)\n",
    "\n",
    "def str_to_num(s):\n",
    "    s = s[:-1]\n",
    "    return float(s)\n",
    "\n",
    "def str_dollar(s):\n",
    "    s = s[1:]\n",
    "    return float(s)\n",
    "def str_dollars(s):\n",
    "    return s[1:]\n",
    "\n",
    "def rem_commas(s):\n",
    "    return float(s.replace(',','').strip())\n",
    "\n",
    "cnn.NetIncome.replace(to_replace='--', value='0', inplace=True)\n",
    "cnn.TotalAssets.replace(to_replace='--', value='0', inplace=True)\n",
    "cnn.TotalShareholderEquity.replace(to_replace='--', value='0', inplace=True)\n",
    "\n",
    "cnn.NetIncome = cnn.NetIncome.map(lambda x:str_to_curr(x))\n",
    "cnn.TotalAssets = cnn.TotalAssets.map(lambda x:str_to_curr(x))\n",
    "cnn.TotalShareholderEquity = cnn.TotalShareholderEquity.map(lambda x:str_to_curr(x))\n",
    "\n",
    "\n",
    "#Adding required columns to cnn\n",
    "cnn['ROA'] = cnn.NetIncome/cnn.TotalAssets\n",
    "cnn['ROE'] = cnn.NetIncome/cnn.TotalShareholderEquity\n",
    "\n",
    "#Cleaning nasdaq\n",
    "\n",
    "nasdaq.InstOwnerPercent = nasdaq.InstOwnerPercent.map(lambda x:str_to_num(x))\n",
    "nasdaq.TotalShareHolders = nasdaq.TotalShareHolders.apply(lambda x:rem_commas(x))\n",
    "nasdaq.TotalInstitutionalShares = nasdaq.TotalInstitutionalShares.map(lambda x:rem_commas(x))\n",
    "nasdaq.SharesHeldIndividual = nasdaq.SharesHeldIndividual.map(lambda x:rem_commas(x))\n",
    "nasdaq.SharesValueIndividualin1000= nasdaq.SharesValueIndividualin1000.map(lambda x:rem_commas(x))\n",
    "nasdaq.TotalSharesinMarketinMillions= nasdaq.TotalSharesinMarketinMillions.map(lambda x:rem_commas(x))\n",
    "nasdaq.TotalValueHoldingsin1000 = nasdaq.TotalValueHoldingsin1000.map(lambda x:str_dollars(x)).map(lambda x:rem_commas(x))\n",
    "nasdaq = nasdaq.loc[nasdaq.InstOwnerPercent<=100]"
   ]
  },
  {
   "cell_type": "code",
   "execution_count": 6,
   "metadata": {
    "collapsed": true
   },
   "outputs": [],
   "source": [
    "#Cleaning fin_morn\n",
    "\n",
    "#fin = fin.replace([np.inf, -np.inf], np.nan).dropna(axis=0, how='any')"
   ]
  },
  {
   "cell_type": "code",
   "execution_count": 7,
   "metadata": {},
   "outputs": [
    {
     "data": {
      "text/plain": [
       "442"
      ]
     },
     "execution_count": 7,
     "metadata": {},
     "output_type": "execute_result"
    }
   ],
   "source": [
    "#Merging cnn and nasdaq for research Q1\n",
    "nasdaq_merge = nasdaq[['Ticker','InstOwnerPercent']]\n",
    "nasdaq_merge = nasdaq_merge.drop_duplicates()\n",
    "nasdaq_merge.InstOwnerPercent=nasdaq_merge.InstOwnerPercent/100\n",
    "reg1 = cnn.merge(nasdaq_merge,how = 'left',on = 'Ticker')\n",
    "reg1 = reg1.replace([np.inf, -np.inf], np.nan).dropna(axis=0, how='any')\n",
    "#len(reg1)\n",
    "\n",
    "#reg1.to_csv('regression1.csv')"
   ]
  },
  {
   "cell_type": "code",
   "execution_count": 8,
   "metadata": {
    "collapsed": true
   },
   "outputs": [],
   "source": [
    "#Top 10 data manipulation\n",
    "\n",
    "nasdaq_top=nasdaq.copy()\n",
    "nasdaq_top=nasdaq_top[['Ticker','OwnerNames', 'SharesValueIndividualin1000']]\n",
    "cnn_top=cnn[['Ticker','Sector']]\n",
    "nasdaq_top = nasdaq_top.merge(cnn_top, how ='left', on= 'Ticker')\n",
    "\n",
    "#nasdaq_top.to_csv('nasdaq_top.csv')"
   ]
  },
  {
   "cell_type": "code",
   "execution_count": 9,
   "metadata": {
    "collapsed": true
   },
   "outputs": [],
   "source": [
    "#Top 10 for every Ticker\n",
    "nasdaq_top_Ticker = nasdaq_top.sort_values(['Ticker','SharesValueIndividualin1000'], ascending = [True, False])\n",
    "nasdaq_top_Ticker = nasdaq_top_Ticker.groupby('Ticker').head(10)\n",
    "#nasdaq_top_Ticker"
   ]
  },
  {
   "cell_type": "code",
   "execution_count": 10,
   "metadata": {
    "collapsed": true
   },
   "outputs": [],
   "source": [
    "#Top 10 in a sector sum\n",
    "nasdaq_top_sector = nasdaq_top[['Sector','OwnerNames', 'SharesValueIndividualin1000']]\n",
    "nasdaq_top_sector = nasdaq_top_sector.groupby(['Sector','OwnerNames'], as_index=False).sum().sort_values(['Sector','SharesValueIndividualin1000'],ascending = [True, False])\n",
    "nasdaq_top_sector = nasdaq_top_sector.groupby('Sector').head(10)\n",
    "nasdaq_top_sector.to_csv('nasdaq_top_sector.csv')\n",
    "#nasdaq_top_sector"
   ]
  },
  {
   "cell_type": "code",
   "execution_count": 11,
   "metadata": {
    "collapsed": true
   },
   "outputs": [],
   "source": [
    "#Top 10 in a sector count\n",
    "\n",
    "nasdaq_top_sector_count = nasdaq_top[['Sector','OwnerNames', 'SharesValueIndividualin1000']]\n",
    "nasdaq_top_sector_count= nasdaq_top_sector_count.groupby(['Sector','OwnerNames'], as_index=False).count().sort_values(['Sector','SharesValueIndividualin1000'],ascending = [True, False])\n",
    "#nasdaq_top_sector_count"
   ]
  },
  {
   "cell_type": "code",
   "execution_count": 12,
   "metadata": {
    "collapsed": true
   },
   "outputs": [],
   "source": [
    "#Top 10 Overall\n",
    "nasdaq_top_overall = nasdaq_top.groupby(['OwnerNames'], as_index=False).sum().sort_values(['SharesValueIndividualin1000'], ascending = False).head(10)\n",
    "#nasdaq_top_overall"
   ]
  },
  {
   "cell_type": "code",
   "execution_count": 29,
   "metadata": {
    "collapsed": true
   },
   "outputs": [],
   "source": [
    "import plotly\n"
   ]
  },
  {
   "cell_type": "code",
   "execution_count": 14,
   "metadata": {},
   "outputs": [
    {
     "data": {
      "text/plain": [
       "'https://plot.ly/~mdsheetal/7'"
      ]
     },
     "execution_count": 14,
     "metadata": {},
     "output_type": "execute_result"
    }
   ],
   "source": [
    "\n",
    "import plotly\n",
    "plotly.tools.set_credentials_file(username='mdsheetal', api_key='PAJJcownUq3QcSvT6VlK')\n",
    "import plotly.plotly as py\n",
    "import plotly.graph_objs as go\n",
    "\n",
    "filter_list = nasdaq_top_Ticker.loc[nasdaq_top_Ticker['Ticker'] == 'AAPL']\n",
    "\n",
    "\n",
    "trace1 = go.Bar(\n",
    "    x=filter_list.OwnerNames,\n",
    "    y=filter_list.SharesValueIndividualin1000*1000,\n",
    "    name='Above',\n",
    "    marker=dict(\n",
    "       color='#6865ec',\n",
    "       line=dict(\n",
    "           color='rgb(8,48,107)',\n",
    "           width=1.7)\n",
    "            )\n",
    "    \n",
    ")\n",
    "data = [trace1]\n",
    "layout = go.Layout(\n",
    "    autosize= True,\n",
    "    width=800,\n",
    "    height=450,\n",
    "    barmode='group',\n",
    "    xaxis=dict(\n",
    "        title= 'Institutional Owners Name',\n",
    "        titlefont = dict(\n",
    "          color= \"#444\", \n",
    "          family = \"\\\"Open Sans\\\", verdana, arial, sans-serif\", \n",
    "          size = 17\n",
    "        )\n",
    "    ),\n",
    "    yaxis=dict(\n",
    "        title= 'Ownership value in $',\n",
    "        titlefont = dict(\n",
    "          color= \"#444\", \n",
    "          family = \"\\\"Open Sans\\\", verdana, arial, sans-serif\", \n",
    "          size = 17\n",
    "        )\n",
    "    ),  \n",
    "    title= \"S&P500 Top Institutional Holders by Company\", \n",
    "    titlefont=dict (\n",
    "    color= \"#444\", \n",
    "    family= \"\\\"Open Sans\\\", verdana, arial, sans-serif\", \n",
    "    size= 19\n",
    "    )\n",
    ")\n",
    "\n",
    "fig = go.Figure(data=data, layout=layout)\n",
    "py.plot(fig, filename='grouped-bar3')"
   ]
  },
  {
   "cell_type": "code",
   "execution_count": 15,
   "metadata": {
    "slideshow": {
     "slide_type": "slide"
    }
   },
   "outputs": [
    {
     "data": {
      "application/javascript": [
       "window.genUID = function() {\n",
       "    return 'xxxxxxxx-xxxx-4xxx-yxxx-xxxxxxxxxxxx'.replace(/[xy]/g, function(c) {\n",
       "        var r = Math.random()*16|0, v = c == 'x' ? r : (r&0x3|0x8);\n",
       "        return v.toString(16);\n",
       "    });\n",
       "};\n",
       "\n",
       "\n",
       "define('graphWidget', [\"@jupyter-widgets/base\"], function (widget) {\n",
       "\n",
       "    var GraphView = widget.DOMWidgetView.extend({\n",
       "        render: function(){\n",
       "            var that = this;\n",
       "\n",
       "            var graphId = window.genUID();\n",
       "            var loadingId = 'loading-'+graphId;\n",
       "\n",
       "\n",
       "            var _graph_url = that.model.get('_graph_url');\n",
       "\n",
       "            // variable plotlyDomain in the case of enterprise\n",
       "            var url_parts = _graph_url.split('/');\n",
       "            var plotlyDomain = url_parts[0] + '//' + url_parts[2];\n",
       "\n",
       "            if(!('plotlyDomains' in window)){\n",
       "                window.plotlyDomains = {};\n",
       "            }\n",
       "            window.plotlyDomains[graphId] = plotlyDomain;\n",
       "\n",
       "            // Place IFrame in output cell div `$el`\n",
       "            that.$el.css('width', '100%');\n",
       "            that.$graph = $(['<iframe id=\"'+graphId+'\"',\n",
       "                             'src=\"'+_graph_url+'.embed\"',\n",
       "                             'seamless',\n",
       "                             'style=\"border: none;\"',\n",
       "                             'width=\"100%\"',\n",
       "                             'height=\"600\">',\n",
       "                             '</iframe>'].join(' '));\n",
       "            that.$graph.appendTo(that.$el);\n",
       "\n",
       "            that.$loading = $('<div id=\"'+loadingId+'\">Initializing...</div>')\n",
       "                            .appendTo(that.$el);\n",
       "\n",
       "            // for some reason the 'width' is being changed in IPython 3.0.0\n",
       "            // for the containing `div` element. There's a flicker here, but\n",
       "            // I was unable to fix it otherwise.\n",
       "            setTimeout(function ()  {\n",
       "                if (IPYTHON_VERSION === '3') {\n",
       "                    $('#' + graphId)[0].parentElement.style.width = '100%';\n",
       "                }\n",
       "            }, 500);\n",
       "\n",
       "            // initialize communication with the iframe\n",
       "            if(!('pingers' in window)){\n",
       "                window.pingers = {};\n",
       "            }\n",
       "\n",
       "            window.pingers[graphId] = setInterval(function() {\n",
       "                that.graphContentWindow = $('#'+graphId)[0].contentWindow;\n",
       "                that.graphContentWindow.postMessage({task: 'ping'}, plotlyDomain);\n",
       "            }, 200);\n",
       "\n",
       "            // Assign a message listener to the 'message' events\n",
       "            // from iframe's postMessage protocol.\n",
       "            // Filter the messages by iframe src so that the right message\n",
       "            // gets passed to the right widget\n",
       "            if(!('messageListeners' in window)){\n",
       "                 window.messageListeners = {};\n",
       "            }\n",
       "\n",
       "            window.messageListeners[graphId] = function(e) {\n",
       "                if(_graph_url.indexOf(e.origin)>-1) {\n",
       "                    var frame = document.getElementById(graphId);\n",
       "\n",
       "                    if(frame === null){\n",
       "                        // frame doesn't exist in the dom anymore, clean up it's old event listener\n",
       "                        window.removeEventListener('message', window.messageListeners[graphId]);\n",
       "                        clearInterval(window.pingers[graphId]);\n",
       "                    } else if(frame.contentWindow === e.source) {\n",
       "                        // TODO: Stop event propagation, so each frame doesn't listen and filter\n",
       "                        var frameContentWindow = $('#'+graphId)[0].contentWindow;\n",
       "                        var message = e.data;\n",
       "\n",
       "                        if('pong' in message && message.pong) {\n",
       "                            $('#loading-'+graphId).hide();\n",
       "                            clearInterval(window.pingers[graphId]);\n",
       "                            that.send({event: 'pong', graphId: graphId});\n",
       "                        } else if (message.type==='hover' ||\n",
       "                                   message.type==='zoom'  ||\n",
       "                                   message.type==='click' ||\n",
       "                                   message.type==='unhover') {\n",
       "\n",
       "                            // click and hover events contain all of the data in the traces,\n",
       "                            // which can be a very large object and may take a ton of time\n",
       "                            // to pass to the python backend. Strip out the data, and require\n",
       "                            // the user to call get_figure if they need trace information\n",
       "                            if(message.type !== 'zoom') {\n",
       "                                for(var i in message.points) {\n",
       "                                    delete message.points[i].data;\n",
       "                                    delete message.points[i].fullData;\n",
       "                                }\n",
       "                            }\n",
       "                            that.send({event: message.type, message: message, graphId: graphId});\n",
       "                        } else if (message.task === 'getAttributes') {\n",
       "                            that.send({event: 'getAttributes', response: message.response});\n",
       "                        }\n",
       "                    }\n",
       "                }\n",
       "            };\n",
       "\n",
       "            window.removeEventListener('message', window.messageListeners[graphId]);\n",
       "            window.addEventListener('message', window.messageListeners[graphId]);\n",
       "\n",
       "        },\n",
       "\n",
       "        update: function() {\n",
       "            // Listen for messages from the graph widget in python\n",
       "            var jmessage = this.model.get('_message');\n",
       "            var message = JSON.parse(jmessage);\n",
       "\n",
       "            // check for duplicate messages\n",
       "            if(!('messageIds' in window)){\n",
       "                window.messageIds = {};\n",
       "            }\n",
       "\n",
       "            if(!(message.uid in window.messageIds)){\n",
       "                // message hasn't been received yet, do stuff\n",
       "                window.messageIds[message.uid] = true;\n",
       "\n",
       "                if (message.fadeTo) {\n",
       "                    this.fadeTo(message);\n",
       "                } else {\n",
       "                    var plot = $('#' + message.graphId)[0].contentWindow;\n",
       "                    plot.postMessage(message, window.plotlyDomains[message.graphId]);\n",
       "                }\n",
       "            }\n",
       "\n",
       "            return GraphView.__super__.update.apply(this);\n",
       "        },\n",
       "\n",
       "        /**\n",
       "         * Wrapper for jquery's `fadeTo` function.\n",
       "         *\n",
       "         * @param message Contains the id we need to find the element.\n",
       "         */\n",
       "        fadeTo: function (message) {\n",
       "            var plot = $('#' + message.graphId);\n",
       "            plot.fadeTo(message.duration, message.opacity);\n",
       "        }\n",
       "    });\n",
       "\n",
       "    // Register the GraphView with the widget manager.\n",
       "    return {\n",
       "        GraphView: GraphView\n",
       "    }\n",
       "\n",
       "});\n",
       "\n",
       "//@ sourceURL=graphWidget.js\n"
      ],
      "text/plain": [
       "<IPython.core.display.Javascript object>"
      ]
     },
     "metadata": {},
     "output_type": "display_data"
    },
    {
     "data": {
      "application/vnd.jupyter.widget-view+json": {
       "model_id": "95419a7ffec84d48ae88c2e07a9f38bc",
       "version_major": 2,
       "version_minor": 0
      },
      "text/plain": [
       "A Jupyter Widget"
      ]
     },
     "metadata": {},
     "output_type": "display_data"
    },
    {
     "data": {
      "application/vnd.jupyter.widget-view+json": {
       "model_id": "64c48528c0e94243b79cac3c91082d81",
       "version_major": 2,
       "version_minor": 0
      },
      "text/plain": [
       "A Jupyter Widget"
      ]
     },
     "metadata": {},
     "output_type": "display_data"
    }
   ],
   "source": [
    "from ipywidgets import widgets \n",
    "from IPython.display import display, clear_output, Image\n",
    "from plotly.graph_objs import *\n",
    "from plotly.widgets import GraphWidget\n",
    "import numpy as np\n",
    "import pandas as pd\n",
    "import plotly.graph_objs as go\n",
    "import plotly.plotly as py\n",
    "\n",
    "\n",
    "# define our widgets\n",
    "graph = GraphWidget('https://plot.ly/~mdsheetal/7')\n",
    "w = widgets.Dropdown(\n",
    "    options=list(nasdaq_top_Ticker['Ticker'].unique()),\n",
    "    value='AAPL',\n",
    "    description='Company:',\n",
    ")\n",
    "\n",
    "# generate a function to handle changes in the widget\n",
    "def update_on_change(change):\n",
    "\n",
    "    filter_list = nasdaq_top_Ticker.loc[nasdaq_top_Ticker['Ticker'] == w.value]\n",
    "    x=filter_list.OwnerNames\n",
    "    y=filter_list.SharesValueIndividualin1000*1000\n",
    "\n",
    "    graph.restyle({\n",
    "                'x': [x],\n",
    "                'y': [y]\n",
    "            }) \n",
    "      \n",
    "    \n",
    "# set a listener for changes to the dropdown widget    \n",
    "w.observe(update_on_change, names=\"value\")\n",
    "\n",
    "display(w)\n",
    "display(graph)"
   ]
  },
  {
   "cell_type": "code",
   "execution_count": 16,
   "metadata": {
    "slideshow": {
     "slide_type": "slide"
    }
   },
   "outputs": [
    {
     "data": {
      "text/html": [
       "<iframe id=\"igraph\" scrolling=\"no\" style=\"border:none;\" seamless=\"seamless\" src=\"https://plot.ly/~mdsheetal/2.embed\" height=\"500px\" width=\"850px\"></iframe>"
      ],
      "text/plain": [
       "<plotly.tools.PlotlyDisplay object>"
      ]
     },
     "execution_count": 16,
     "metadata": {},
     "output_type": "execute_result"
    }
   ],
   "source": [
    "\n",
    "import plotly\n",
    "plotly.tools.set_credentials_file(username='mdsheetal', api_key='PAJJcownUq3QcSvT6VlK')\n",
    "import plotly.plotly as py\n",
    "import plotly.graph_objs as go\n",
    "\n",
    "trace1 = go.Bar(\n",
    "    y=nasdaq_top_overall.SharesValueIndividualin1000*1000,\n",
    "    x=nasdaq_top_overall.OwnerNames,\n",
    "    name='Above',\n",
    "    marker=dict(\n",
    "       color='#6865ec',\n",
    "       line=dict(\n",
    "           color='rgb(8,48,107)',\n",
    "           width=1.5)\n",
    "            )\n",
    "    \n",
    ")\n",
    "\n",
    "data = [trace1]\n",
    "layout = go.Layout(\n",
    "    autosize= True,\n",
    "    width=850,\n",
    "    height=500,\n",
    "    barmode='group',\n",
    "    xaxis=dict(\n",
    "        title= 'Institutional Owners Name',\n",
    "        titlefont = dict(\n",
    "          color= \"#444\", \n",
    "          family = \"\\\"Open Sans\\\", verdana, arial, sans-serif\", \n",
    "          size = 17\n",
    "        )\n",
    "    ),\n",
    "    yaxis=dict(\n",
    "        title= 'Ownership value in $',\n",
    "        titlefont = dict(\n",
    "          color= \"#444\", \n",
    "          family = \"\\\"Open Sans\\\", verdana, arial, sans-serif\", \n",
    "          size = 17\n",
    "        )\n",
    "    ),  \n",
    "    title= \"S&P500 Top Institutional Holders\", \n",
    "    titlefont=dict (\n",
    "    color= \"#444\", \n",
    "    family= \"\\\"Open Sans\\\", verdana, arial, sans-serif\", \n",
    "    size= 19\n",
    "    )\n",
    ")\n",
    "\n",
    "fig = go.Figure(data=data, layout=layout)\n",
    "py.iplot(fig, filename='grouped-bar1')"
   ]
  },
  {
   "cell_type": "markdown",
   "metadata": {
    "slideshow": {
     "slide_type": "slide"
    }
   },
   "source": [
    "# Let's compare these with some top world GDPs\n",
    "\n",
    "<img src=\"GDP.png\" alt=\"Drawing\" style=\"width: 700px;\"/>"
   ]
  },
  {
   "cell_type": "code",
   "execution_count": 24,
   "metadata": {
    "collapsed": true
   },
   "outputs": [
    {
     "data": {
      "text/plain": [
       "'https://plot.ly/~mdsheetal/5'"
      ]
     },
     "execution_count": 24,
     "metadata": {},
     "output_type": "execute_result"
    }
   ],
   "source": [
    "\n",
    "import plotly\n",
    "plotly.tools.set_credentials_file(username='mdsheetal', api_key='PAJJcownUq3QcSvT6VlK')\n",
    "import plotly.plotly as py\n",
    "import plotly.graph_objs as go\n",
    "\n",
    "filter_list = nasdaq_top_sector.loc[nasdaq_top_sector['Sector'] == 'Health Technology']\n",
    "\n",
    "\n",
    "trace1 = go.Bar(\n",
    "    x=filter_list.OwnerNames,\n",
    "    y=filter_list.SharesValueIndividualin1000*1000,\n",
    "    name='Above',\n",
    "    marker=dict(\n",
    "       color='#6865ec',\n",
    "       line=dict(\n",
    "           color='rgb(8,48,107)',\n",
    "           width=1.7)\n",
    "            )\n",
    "    \n",
    ")\n",
    "data = [trace1]\n",
    "layout = go.Layout(\n",
    "    autosize= True,\n",
    "    width=800,\n",
    "    height=450,\n",
    "    barmode='group',\n",
    "    xaxis=dict(\n",
    "        title= 'Institutional Owners Name',\n",
    "        titlefont = dict(\n",
    "          color= \"#444\", \n",
    "          family = \"\\\"Open Sans\\\", verdana, arial, sans-serif\", \n",
    "          size = 17\n",
    "        )\n",
    "    ),\n",
    "    yaxis=dict(\n",
    "        title= 'Ownership value in $',\n",
    "        titlefont = dict(\n",
    "          color= \"#444\", \n",
    "          family = \"\\\"Open Sans\\\", verdana, arial, sans-serif\", \n",
    "          size = 17\n",
    "        )\n",
    "    ),  \n",
    "    title= \"S&P500 Top Institutional Holders by Sector\", \n",
    "    titlefont=dict (\n",
    "    color= \"#444\", \n",
    "    family= \"\\\"Open Sans\\\", verdana, arial, sans-serif\", \n",
    "    size= 19\n",
    "    )\n",
    ")\n",
    "\n",
    "fig = go.Figure(data=data, layout=layout)\n",
    "py.plot(fig, filename='grouped-bar2')"
   ]
  },
  {
   "cell_type": "code",
   "execution_count": 25,
   "metadata": {
    "collapsed": true,
    "slideshow": {
     "slide_type": "slide"
    }
   },
   "outputs": [
    {
     "data": {
      "application/vnd.jupyter.widget-view+json": {
       "model_id": "cee9de6916534e5b91b275592dddacf7",
       "version_major": 2,
       "version_minor": 0
      },
      "text/plain": [
       "A Jupyter Widget"
      ]
     },
     "metadata": {},
     "output_type": "display_data"
    },
    {
     "data": {
      "application/vnd.jupyter.widget-view+json": {
       "model_id": "2735a5a5434f4c3580517451949f9892",
       "version_major": 2,
       "version_minor": 0
      },
      "text/plain": [
       "A Jupyter Widget"
      ]
     },
     "metadata": {},
     "output_type": "display_data"
    }
   ],
   "source": [
    "from ipywidgets import widgets \n",
    "from IPython.display import display, clear_output, Image\n",
    "from plotly.graph_objs import *\n",
    "from plotly.widgets import GraphWidget\n",
    "import numpy as np\n",
    "import pandas as pd\n",
    "import plotly.graph_objs as go\n",
    "import plotly.plotly as py\n",
    "\n",
    "\n",
    "# define our widgets\n",
    "graph = GraphWidget('https://plot.ly/~mdsheetal/5')\n",
    "w = widgets.Dropdown(\n",
    "    options=list(nasdaq_top_sector['Sector'].unique()),\n",
    "    value='Health Technology',\n",
    "    description='Sector:',\n",
    ")\n",
    "\n",
    "# generate a function to handle changes in the widget\n",
    "def update_on_change(change):\n",
    "\n",
    "    filter_list = nasdaq_top_sector.loc[nasdaq_top_sector['Sector'] == w.value]\n",
    "    x=filter_list.OwnerNames\n",
    "    y=filter_list.SharesValueIndividualin1000*1000\n",
    "\n",
    "    graph.restyle({\n",
    "                'x': [x],\n",
    "                'y': [y]\n",
    "            }) \n",
    "      \n",
    "    \n",
    "# set a listener for changes to the dropdown widget    \n",
    "w.observe(update_on_change, names=\"value\")\n",
    "\n",
    "display(w)\n",
    "display(graph)"
   ]
  },
  {
   "cell_type": "code",
   "execution_count": 26,
   "metadata": {
    "collapsed": true
   },
   "outputs": [],
   "source": [
    "#Creating DF for analysing research Q2\n",
    "\n",
    "fin_nasdaq = nasdaq[['Ticker','InstOwnerPercent']]\n",
    "fin_nasdaq = fin_nasdaq.drop_duplicates().reset_index()\n",
    "fin_cnn=cnn[['Ticker','Sector']]\n",
    "fin_morn = fin[['Ticker','Price/Book','Price/Book_ind']]\n",
    "morn = morn_df[['Ticker','Assessment']]\n",
    "analysis2 = fin_morn.merge(fin_cnn, how ='left', on= 'Ticker')\n",
    "analysis2 = analysis2.merge(fin_nasdaq, how = 'left', on= 'Ticker')\n",
    "analysis2 = analysis2.merge(morn, how = 'left', on= 'Ticker')\n",
    "analysis2 = analysis2.replace([np.inf, -np.inf], np.nan).dropna(axis=0, how='any')\n",
    "analysis2=analysis2.reset_index(drop=True)\n"
   ]
  },
  {
   "cell_type": "code",
   "execution_count": 27,
   "metadata": {
    "collapsed": true,
    "slideshow": {
     "slide_type": "slide"
    }
   },
   "outputs": [
    {
     "data": {
      "text/html": [
       "<iframe id=\"igraph\" scrolling=\"no\" style=\"border:none;\" seamless=\"seamless\" src=\"https://plot.ly/~mdsheetal/9.embed\" height=\"525px\" width=\"100%\"></iframe>"
      ],
      "text/plain": [
       "<plotly.tools.PlotlyDisplay object>"
      ]
     },
     "execution_count": 27,
     "metadata": {},
     "output_type": "execute_result"
    }
   ],
   "source": [
    "import plotly.plotly as py\n",
    "import plotly.graph_objs as go\n",
    "import numpy as np\n",
    "\n",
    "hover_text = []\n",
    "for index, row in analysis2.iterrows():\n",
    "    hover_text.append(('Ticker: {Tick}<br>'+\n",
    "                      'PB: {pb}<br>'+\n",
    "                      'Inst%: {inst}<br>'\n",
    "                      ).format(Tick=row['Ticker'],\n",
    "                                            pb=row['Price/Book'],\n",
    "                                            inst=row['InstOwnerPercent']\n",
    "                                            ))\n",
    "\n",
    "analysis2['text'] = hover_text\n",
    "\n",
    "filter_list = analysis2\n",
    "\n",
    "\n",
    "t0=filter_list.loc[filter_list.Assessment=='Undervalued']\n",
    "trace0 = go.Scatter(\n",
    "    x = t0.InstOwnerPercent,\n",
    "    y = t0['Price/Book'],\n",
    "    name = 'Undervalued',\n",
    "    mode = 'markers',\n",
    "    text = filter_list['text'],\n",
    "    marker = dict(\n",
    "        size = 10,\n",
    "        color = 'rgba(0, 182, 0, .6)',\n",
    "        line = dict(\n",
    "            width = 2,\n",
    "            color = 'rgba(0, 182, 0, .6)'\n",
    "        )\n",
    "    )\n",
    ")\n",
    "\n",
    "t1=filter_list.loc[filter_list.Assessment=='Fairly Valued']\n",
    "trace1 = go.Scatter(\n",
    "    x = t1.InstOwnerPercent,\n",
    "    y = t1['Price/Book'],\n",
    "    name = 'Fairly Valued',\n",
    "    mode = 'markers',\n",
    "    text = filter_list['text'],\n",
    "    marker = dict(\n",
    "        size = 10,\n",
    "        color = '#ffff66',\n",
    "        line = dict(\n",
    "            width = 2,\n",
    "            color = '#ffff66'\n",
    "        )\n",
    "    )\n",
    ")\n",
    "\n",
    "t2=filter_list.loc[filter_list.Assessment=='Overvalued']\n",
    "trace2 = go.Scatter(\n",
    "    x = t2.InstOwnerPercent,\n",
    "    y = t2['Price/Book'],\n",
    "    name = 'Overvalued',\n",
    "    mode = 'markers',\n",
    "    text = filter_list['text'],\n",
    "    marker = dict(\n",
    "        size = 10,\n",
    "        color = 'rgb(255, 165, 0)',\n",
    "        line = dict(\n",
    "            width = 2,\n",
    "            color = 'rgb(255, 165, 0)'\n",
    "        )\n",
    "    )\n",
    ")\n",
    "\n",
    "t3=filter_list.loc[filter_list.Assessment=='Significantly Overvalued']\n",
    "trace3 = go.Scatter(\n",
    "    x = t3.InstOwnerPercent,\n",
    "    y = t3['Price/Book'],\n",
    "    name = 'Significantly Overvalued',\n",
    "    mode = 'markers',\n",
    "    text = filter_list['text'],\n",
    "    marker = dict(\n",
    "        size = 10,\n",
    "        color = 'rgba(152, 0, 0, 1)',\n",
    "        line = dict(\n",
    "            width = 2,\n",
    "            color = 'rgba(152, 0, 0, 1)'\n",
    "        )\n",
    "    )\n",
    ")\n",
    "\n",
    "t4=filter_list.loc[filter_list.Assessment=='Significantly Undervalued']\n",
    "trace4 = go.Scatter(\n",
    "    x = t4.InstOwnerPercent,\n",
    "    y = t4['Price/Book'],\n",
    "    name = 'Significantly Undervalued',\n",
    "    mode = 'markers',\n",
    "    text = filter_list['text'],\n",
    "    marker = dict(\n",
    "        size = 10,\n",
    "        color = 'rgb(0, 90, 0)',\n",
    "        line = dict(\n",
    "            width = 2,\n",
    "            color = 'rgb(0, 90, 0)'\n",
    "        )\n",
    "    )\n",
    ")\n",
    "\n",
    "\n",
    "data = [trace4, trace0, trace1, trace2, trace3]\n",
    "\n",
    "layout = dict(title = 'Price/Book ratio vs Institutional Ownership',\n",
    "\n",
    "              paper_bgcolor='rgb(243, 243, 243)',\n",
    "              plot_bgcolor='rgb(243, 243, 243)',\n",
    "              xaxis=dict(\n",
    "                title= 'Institutional Ownership %',\n",
    "                titlefont = dict(\n",
    "                  color= \"#444\", \n",
    "                  family = \"\\\"Open Sans\\\", verdana, arial, sans-serif\", \n",
    "                  size = 17\n",
    "                )\n",
    "              ),\n",
    "            yaxis=dict(\n",
    "                title= 'Price/Book Ratio',\n",
    "                titlefont = dict(\n",
    "                color= \"#444\", \n",
    "                family = \"\\\"Open Sans\\\", verdana, arial, sans-serif\", \n",
    "                size = 17\n",
    "               )\n",
    "            )\n",
    "        )\n",
    "\n",
    "fig = dict(data=data, layout=layout)\n",
    "py.iplot(fig, filename='styled-scatter')\n"
   ]
  },
  {
   "cell_type": "code",
   "execution_count": 28,
   "metadata": {
    "collapsed": true,
    "slideshow": {
     "slide_type": "slide"
    }
   },
   "outputs": [
    {
     "data": {
      "text/plain": [
       "<seaborn.axisgrid.JointGrid at 0x1a15d4e828>"
      ]
     },
     "metadata": {},
     "output_type": "display_data"
    },
    {
     "data": {
      "image/png": "[encoded data removed]",
      "text/plain": [
       "<matplotlib.figure.Figure at 0x1a15d4e940>"
      ]
     },
     "metadata": {},
     "output_type": "display_data"
    }
   ],
   "source": [
    "import seaborn as sns\n",
    "display(sns.jointplot(reg1['ROA'], reg1['InstOwnerPercent']))"
   ]
  },
  {
   "cell_type": "markdown",
   "metadata": {
    "slideshow": {
     "slide_type": "slide"
    }
   },
   "source": [
    "###### S&P500 has a large Insitutional Ownership which not only drives their stock prices but also the performance.\n",
    "##### So do I target google, facebook for my job? Nahh..not anymore"
   ]
  },
  {
   "cell_type": "markdown",
   "metadata": {},
   "source": [
    "## "
   ]
  }
 ],
 "metadata": {
  "celltoolbar": "Slideshow",
  "kernelspec": {
   "display_name": "Python 3",
   "language": "python",
   "name": "python3"
  },
  "language_info": {
   "codemirror_mode": {
    "name": "ipython",
    "version": 3
   },
   "file_extension": ".py",
   "mimetype": "text/x-python",
   "name": "python",
   "nbconvert_exporter": "python",
   "pygments_lexer": "ipython3",
   "version": "3.6.3"
  }
 },
 "nbformat": 4,
 "nbformat_minor": 2
}
